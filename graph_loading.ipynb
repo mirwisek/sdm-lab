{
 "cells": [
  {
   "cell_type": "code",
   "execution_count": 17,
   "id": "2ed707b1",
   "metadata": {},
   "outputs": [],
   "source": [
    "import pandas as pd\n",
    "from py2neo import Graph"
   ]
  },
  {
   "cell_type": "code",
   "execution_count": 18,
   "id": "7b9f07a6",
   "metadata": {},
   "outputs": [],
   "source": [
    "graph = Graph(\"bolt://localhost:7687\", auth=(\"neo4j\", \"Temp/123\"))"
   ]
  },
  {
   "cell_type": "code",
   "execution_count": 23,
   "id": "f813b2b8",
   "metadata": {},
   "outputs": [
    {
     "data": {
      "text/html": [
       "(No data)"
      ],
      "text/plain": [
       "(No data)"
      ]
     },
     "execution_count": 23,
     "metadata": {},
     "output_type": "execute_result"
    }
   ],
   "source": [
    "author_ = \"\"\"\n",
    "        LOAD CSV WITH HEADERS FROM \"file:///data/10k_samples/authors.csv\" AS x\n",
    "        WITH x, toInteger(x.author_id) as author_id\n",
    "        CREATE (n: Author)\n",
    "        SET n=x, n.author_id=author_id\n",
    "\"\"\"\n",
    "graph.run(author_)"
   ]
  },
  {
   "cell_type": "code",
   "execution_count": 22,
   "id": "b7942576",
   "metadata": {},
   "outputs": [
    {
     "data": {
      "text/html": [
       "(No data)"
      ],
      "text/plain": [
       "(No data)"
      ]
     },
     "execution_count": 22,
     "metadata": {},
     "output_type": "execute_result"
    }
   ],
   "source": [
    "paper_ = \"\"\"\n",
    "        LOAD CSV WITH HEADERS FROM \"file:///data/10k_samples/papers.csv\" AS x\n",
    "        WITH x, toInteger(x.paper_id) as paper_id, toInteger(x.year) as year, toInteger(x.n_citations) as n_citations\n",
    "        CREATE (n: Paper)\n",
    "        SET n=x, n.paper_id=paper_id, n.year=year, n.n_citations=n_citations\n",
    "\"\"\"\n",
    "graph.run(paper_)"
   ]
  },
  {
   "cell_type": "code",
   "execution_count": 25,
   "id": "90811eaa",
   "metadata": {},
   "outputs": [
    {
     "data": {
      "text/html": [
       "(No data)"
      ],
      "text/plain": [
       "(No data)"
      ]
     },
     "execution_count": 25,
     "metadata": {},
     "output_type": "execute_result"
    }
   ],
   "source": [
    "conference_ = \"\"\"\n",
    "        LOAD CSV WITH HEADERS FROM \"file:///data/10k_samples/conference.csv\" AS x\n",
    "        WITH x, toInteger(x.conference_id) as conference_id, toInteger(x.edition) as edition, toInteger(x.year) as year\n",
    "        CREATE (n: Conference)\n",
    "        SET n=x, n.conference_id=conference_id, n.edition=edition, n.year=year\n",
    "\"\"\"\n",
    "graph.run(conference_)"
   ]
  },
  {
   "cell_type": "code",
   "execution_count": 26,
   "id": "5dd66912",
   "metadata": {},
   "outputs": [
    {
     "data": {
      "text/html": [
       "(No data)"
      ],
      "text/plain": [
       "(No data)"
      ]
     },
     "execution_count": 26,
     "metadata": {},
     "output_type": "execute_result"
    }
   ],
   "source": [
    "journal_ = \"\"\"\n",
    "        LOAD CSV WITH HEADERS FROM \"file:///data/10k_samples/journal.csv\" AS x\n",
    "        WITH x, toInteger(x.journal_id) as journal_id, toInteger(x.volume) as volume, toInteger(x.year) as year\n",
    "        CREATE (n: Journal)\n",
    "        SET n=x, n.journal_id=journal_id, n.volume=volume, n.year=year\n",
    "\"\"\"\n",
    "graph.run(journal_)"
   ]
  },
  {
   "cell_type": "code",
   "execution_count": 27,
   "id": "ed8e6f1c",
   "metadata": {},
   "outputs": [
    {
     "data": {
      "text/html": [
       "(No data)"
      ],
      "text/plain": [
       "(No data)"
      ]
     },
     "execution_count": 27,
     "metadata": {},
     "output_type": "execute_result"
    }
   ],
   "source": [
    "keyword_ = \"\"\"\n",
    "        LOAD CSV WITH HEADERS FROM \"file:///data/10k_samples/keywords.csv\" AS x\n",
    "        WITH x, toInteger(x.keyword_id) as keyword_id\n",
    "        CREATE (n: Keyword)\n",
    "        SET n=x, n.keyword_id=keyword_id\n",
    "\"\"\"\n",
    "graph.run(keyword_)"
   ]
  },
  {
   "cell_type": "code",
   "execution_count": 30,
   "id": "74b3c05b",
   "metadata": {},
   "outputs": [
    {
     "data": {
      "text/html": [
       "(No data)"
      ],
      "text/plain": [
       "(No data)"
      ]
     },
     "execution_count": 30,
     "metadata": {},
     "output_type": "execute_result"
    }
   ],
   "source": [
    "author_paper_ = \"\"\"\n",
    "    LOAD CSV WITH HEADERS FROM \"file:///data/10k_samples/paper_written_by_author.csv\" AS x\n",
    "    WITH toInteger(x.author_id) AS a_id, toInteger(x.paper_id) AS p_id\n",
    "    MATCH (a:Author {author_id: a_id}), (p:Paper {paper_id: p_id})\n",
    "    CREATE (p)-[r1:written_by]->(a)\n",
    "\"\"\"\n",
    "graph.run(author_paper_)"
   ]
  },
  {
   "cell_type": "code",
   "execution_count": 31,
   "id": "f8149903",
   "metadata": {},
   "outputs": [
    {
     "data": {
      "text/html": [
       "(No data)"
      ],
      "text/plain": [
       "(No data)"
      ]
     },
     "execution_count": 31,
     "metadata": {},
     "output_type": "execute_result"
    }
   ],
   "source": [
    "paper_keyword_ = \"\"\"\n",
    "    LOAD CSV WITH HEADERS FROM \"file:///data/10k_samples/paper_has_keywords.csv\" AS x\n",
    "    WITH toInteger(x.paper_id) AS p_id, toInteger(x.keyword_id) AS k_id\n",
    "    MATCH (p:Paper {paper_id: p_id}), (k:Keyword {keyword_id: k_id})\n",
    "    CREATE (p)-[r2:contains]->(k)\n",
    "\"\"\"\n",
    "graph.run(paper_keyword_)"
   ]
  },
  {
   "cell_type": "code",
   "execution_count": 32,
   "id": "01e1f511",
   "metadata": {},
   "outputs": [
    {
     "data": {
      "text/html": [
       "(No data)"
      ],
      "text/plain": [
       "(No data)"
      ]
     },
     "execution_count": 32,
     "metadata": {},
     "output_type": "execute_result"
    }
   ],
   "source": [
    "paper_paper_ = \"\"\"\n",
    "    LOAD CSV WITH HEADERS FROM \"file:///data/10k_samples/paper_cited_paper.csv\" AS x\n",
    "    WITH toInteger(x.paper_id) AS p_id1, toInteger(x.cited_by) AS p_id2\n",
    "    MATCH (p1:Paper {paper_id: p_id1}), (p2:Paper {paper_id: p_id2})\n",
    "    CREATE (p1)-[r3:cited_by]->(p2)\n",
    "\"\"\"\n",
    "graph.run(paper_paper_)"
   ]
  },
  {
   "cell_type": "code",
   "execution_count": 47,
   "id": "033c9a4f",
   "metadata": {},
   "outputs": [
    {
     "data": {
      "text/html": [
       "(No data)"
      ],
      "text/plain": [
       "(No data)"
      ]
     },
     "execution_count": 47,
     "metadata": {},
     "output_type": "execute_result"
    }
   ],
   "source": [
    "paper_conference_ = \"\"\"\n",
    "    LOAD CSV WITH HEADERS FROM \"file:///data/10k_samples/paper_published_in_conference.csv\" AS x\n",
    "    MATCH (p:Paper {paper_id: toInteger(x.paper_id)}), (c:Conference {conference_id: toInteger(x.conference_id)})\n",
    "    CREATE (p)-[r5:published_in_edition]->(c)\n",
    "    SET r5.volume = toInteger(x.edition), r5.year = toInteger(x.year)\n",
    "\"\"\"\n",
    "graph.run(paper_conference_)"
   ]
  },
  {
   "cell_type": "code",
   "execution_count": 46,
   "id": "8077bf64",
   "metadata": {},
   "outputs": [
    {
     "data": {
      "text/html": [
       "(No data)"
      ],
      "text/plain": [
       "(No data)"
      ]
     },
     "execution_count": 46,
     "metadata": {},
     "output_type": "execute_result"
    }
   ],
   "source": [
    "paper_journal_ = \"\"\"\n",
    "    LOAD CSV WITH HEADERS FROM \"file:///data/10k_samples/paper_published_in_journal.csv\" AS x\n",
    "    MATCH (p:Paper {paper_id: toInteger(x.paper_id)}), (j:Journal {journal_id: toInteger(x.journal_id)})\n",
    "    CREATE (p)-[r5:published_in_volume]->(j)\n",
    "    SET r5.volume = toInteger(x.volume), r5.year = toInteger(x.year)\n",
    "\"\"\"\n",
    "graph.run(paper_journal_)"
   ]
  },
  {
   "cell_type": "code",
   "execution_count": null,
   "id": "0b13e856",
   "metadata": {},
   "outputs": [],
   "source": []
  }
 ],
 "metadata": {
  "kernelspec": {
   "display_name": "Python 3",
   "language": "python",
   "name": "python3"
  },
  "language_info": {
   "codemirror_mode": {
    "name": "ipython",
    "version": 3
   },
   "file_extension": ".py",
   "mimetype": "text/x-python",
   "name": "python",
   "nbconvert_exporter": "python",
   "pygments_lexer": "ipython3",
   "version": "3.8.8"
  }
 },
 "nbformat": 4,
 "nbformat_minor": 5
}
